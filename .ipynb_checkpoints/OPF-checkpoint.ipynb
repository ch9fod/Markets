{
 "cells": [
  {
   "cell_type": "code",
   "execution_count": 2,
   "metadata": {
    "collapsed": false,
    "deletable": true,
    "editable": true
   },
   "outputs": [],
   "source": [
    "from pyomo.environ import *\n",
    "import os\n",
    "model = ConcreteModel()\n",
    "solverexe = \"gurobi\"\n",
    "infinity = float('inf')\n",
    "# dirsolver = r\"C:\\Users\\ch9fod\\Documents\\GitHub\\ED\\solvers\"\n",
    "# datafile = \"data1.dat\""
   ]
  },
  {
   "cell_type": "code",
   "execution_count": null,
   "metadata": {
    "collapsed": true
   },
   "outputs": [],
   "source": [
    "model.Bus = RangeSet(4, doc='Buses')\n",
    "model.G = RangeSet(3, doc='Generators')\n",
    "#parameters\n",
    "model.a = Param(model.G, initialize={1:20.0 , 2:25.0 , 3:40.0},\n",
    "                doc='Parameter a')\n",
    "model.b = Param(model.G, initialize={1:0.05 , 2:0.10 , 3:0.20},\n",
    "                doc='Parameter b')\n",
    "model.Pmin = Param(model.G, initialize={1:20.0 , 2:20.0 , 3:30.0},\n",
    "                   doc='Parameter Pmin')\n",
    "model.Pmax = Param(model.G, initialize={1:400.0 , 2:300.0 , 3:250.0},\n",
    "                   doc='Parameter Pmax')\n",
    "model.Loads = Param(model.Bus, initialize={1:0.0 , 2:0.0 , 3:200.0 , 4:400.0},\n",
    "                    doc='Loads for each Bus')\n",
    "#lone parameter, constant\n",
    "model.D = Param(initialize=600.0, doc='Load')\n",
    "model.BaseP = Param(initialize=100.0, doc='Base Power')\n",
    "model.PFmax = Param(initialize=300.0, doc='Max Power Flow')\n",
    "model.PFmin = Param(initialize=-300.0, doc='Min Power Flow')\n",
    "dtab = {\n",
    "    (1,2) : 0.007,\n",
    "    (2,3) : 0.01,\n",
    "    (3,4) : 0.006,\n",
    "    (4,1) : 0.05,\n",
    "    (2,1) : 0.007,\n",
    "    (3,2) : 0.01,\n",
    "    (4,3) : 0.006,\n",
    "    (1,4) : 0.05,\n",
    "}"
   ]
  }
 ],
 "metadata": {
  "kernelspec": {
   "display_name": "Python 3",
   "language": "python",
   "name": "python3"
  },
  "language_info": {
   "codemirror_mode": {
    "name": "ipython",
    "version": 3
   },
   "file_extension": ".py",
   "mimetype": "text/x-python",
   "name": "python",
   "nbconvert_exporter": "python",
   "pygments_lexer": "ipython3",
   "version": "3.5.3"
  }
 },
 "nbformat": 4,
 "nbformat_minor": 2
}
