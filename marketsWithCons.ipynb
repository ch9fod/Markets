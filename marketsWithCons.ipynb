{
 "cells": [
  {
   "cell_type": "code",
   "execution_count": 1,
   "metadata": {
    "collapsed": true,
    "deletable": true,
    "editable": true
   },
   "outputs": [],
   "source": [
    "from pyomo.environ import *\n",
    "m = ConcreteModel()\n",
    "infinity = float('inf')"
   ]
  },
  {
   "cell_type": "code",
   "execution_count": 2,
   "metadata": {
    "collapsed": false,
    "deletable": true,
    "editable": true
   },
   "outputs": [],
   "source": [
    "# sets\n",
    "m.B = RangeSet(3, doc='Buses')\n",
    "m.G = RangeSet(3, doc='Generators')\n",
    "m.L = RangeSet(2, doc='Loads')\n",
    "m.dBlocks = RangeSet(4, doc='block bids by demand')\n",
    "m.gBlocks = RangeSet(3, doc='block offers of generators')"
   ]
  },
  {
   "cell_type": "code",
   "execution_count": 3,
   "metadata": {
    "collapsed": false,
    "deletable": true,
    "editable": true
   },
   "outputs": [],
   "source": [
    "# parameters\n",
    "# -------------------------------------------------------------------------------\n",
    "m.X = Param(initialize=0.1, doc='Reactance of Lines')\n",
    "# -------------------------------------------------------------------------------\n",
    "m.cap = Param(initialize=7, doc='Capacity of Lines')\n",
    "# -------------------------------------------------------------------------------\n",
    "pdm_tab = {\n",
    "    (1,1) : 8, (1,2) : 5, (1,3) : 5, (1,4) : 3, \n",
    "    (2,1) : 7, (2,2) : 4, (2,3) : 4, (2,4) : 3,\n",
    "}\n",
    "m.pdm = Param(m.L, m.dBlocks, initialize=pdm_tab, doc='MW size of block by demand')\n",
    "# -------------------------------------------------------------------------------\n",
    "priceDm_tab = {\n",
    "    (1,1) : 22, (1,2) : 17, (1,3) : 9, (1,4) : 6,  \n",
    "    (2,1) : 20, (2,2) : 18, (2,3) : 13, (2,4) : 5,\n",
    "}\n",
    "m.priceDm = Param(m.L, m.dBlocks, initialize=priceDm_tab, doc='price of block by demand')\n",
    "# -------------------------------------------------------------------------------\n",
    "pgm_tab = {\n",
    "    (1,1) : 5,  (1,2) : 12, (1,3) : 13,\n",
    "    (2,1) : 8,  (2,2) : 8,  (2,3) : 9, \n",
    "    (3,1) : 10, (3,2) : 10, (3,3) : 5,\n",
    "}\n",
    "m.pgm = Param(m.G, m.gBlocks, initialize=pgm_tab, doc='MW size of block by generator')\n",
    "# -------------------------------------------------------------------------------\n",
    "priceGm_tab = {\n",
    "    (1,1) : 3,   (1,2) : 5,  (1,3) : 7.5,\n",
    "    (2,1) : 6.5, (2,2) : 7,  (2,3) : 8, \n",
    "    (3,1) : 10,  (3,2) : 11, (3,3) : 12,\n",
    "}\n",
    "m.priceGm = Param(m.G, m.gBlocks, initialize=priceGm_tab, doc='price of block by generator')\n",
    "# -------------------------------------------------------------------------------\n",
    "m.gMax = Param(m.G, initialize={1:30 , 2:25 , 3:25}, doc='Gen capacity')\n",
    "# -------------------------------------------------------------------------------\n",
    "m.gMin = Param(m.G, initialize={1:5 , 2:8 , 3:10}, doc='Min gen output')\n",
    "# -------------------------------------------------------------------------------\n",
    "m.BP = Param(initialize=100.0, doc='Base Power')\n",
    "# -------------------------------------------------------------------------------\n",
    "m.d2b = Param(m.B, initialize={1:0 , 2:1 , 3:2}, doc='demands connected to bus')\n",
    "# -------------------------------------------------------------------------------\n",
    "m.g2b = Param(m.B, initialize={1:1 , 2:2 , 3:3}, doc='gen units connected to bus')"
   ]
  },
  {
   "cell_type": "code",
   "execution_count": 4,
   "metadata": {
    "collapsed": true,
    "deletable": true,
    "editable": true
   },
   "outputs": [],
   "source": [
    "# variables\n",
    "def pd_rule(model,i,j):\n",
    "    return (0, m.pdm[i,j])\n",
    "m.pd = Var(m.L, m.dBlocks, domain=Reals, bounds=pd_rule, doc='cleared power block bid by demand')\n",
    "# -------------------------------------------------------------------------------\n",
    "def pg_rule(model,i,j):\n",
    "    return (0, m.pgm[i,j])\n",
    "m.pg = Var(m.G, m.gBlocks, domain=Reals, bounds=pg_rule, doc='cleared power block offered by gen')\n",
    "# -------------------------------------------------------------------------------\n",
    "m.u = Var(m.G, domain=Binary, doc='on/off status of gen')\n",
    "# -------------------------------------------------------------------------------\n",
    "m.ang = Var(m.B, doc='angles of buses')"
   ]
  },
  {
   "cell_type": "code",
   "execution_count": 5,
   "metadata": {
    "collapsed": false,
    "deletable": true,
    "editable": true
   },
   "outputs": [],
   "source": [
    "# constraints\n",
    "def meet_rule(model):\n",
    "    return (summation(m.pd) ==\n",
    "            summation(m.pg))    \n",
    "m.meet = Constraint(rule=meet_rule, doc='Blocks demand = Blocks gen')\n",
    "# -------------------------------------------------------------------------------\n",
    "def gens_min_rule(model,i):\n",
    "    return (m.u[i]*m.gMin[i] <=\n",
    "            sum(m.pg[i,j] for j in m.gBlocks))\n",
    "m.gens_min = Constraint(m.G, rule=gens_min_rule, doc='Generation between limits')\n",
    "# -------------------------------------------------------------------------------\n",
    "def gens_max_rule(model,i):\n",
    "    return (m.u[i]*m.gMax[i] >=\n",
    "            sum(m.pg[i,j] for j in m.gBlocks))\n",
    "m.gens_max = Constraint(m.G, rule=gens_max_rule, doc='Generation between limits')\n",
    "# -------------------------------------------------------------------------------\n",
    "def slack_rule(model):\n",
    "    return m.ang[1] == 0\n",
    "m.slackBusCon = Constraint(rule=slack_rule, doc='Angle of slack bus=0')\n",
    "# -------------------------------------------------------------------------------\n",
    "def flow_rule(model,i,j):\n",
    "    if i == j:\n",
    "        return Constraint.Skip\n",
    "    return (-m.cap ,\n",
    "            (m.BP/m.X)*(m.ang[i]-m.ang[j]),\n",
    "            m.cap)\n",
    "m.FlowCon = Constraint(m.B, m.B, rule=flow_rule, doc='Max flow')\n",
    "# -------------------------------------------------------------------------------\n",
    "def bus_rule(model,i):   \n",
    "    if i == 1:\n",
    "        return(sum(m.pg[i,j] for j in m.gBlocks) ==\n",
    "               ((m.BP/m.X)*((m.ang[i]-m.ang[3]) + (m.ang[i]-m.ang[2]))))\n",
    "    elif i == 2:\n",
    "        return(sum(m.pg[i,j] for j in m.gBlocks) -\n",
    "               sum(m.pd[i-1,j] for j in m.dBlocks) ==\n",
    "               ((m.BP/m.X)*((m.ang[i]-m.ang[1]) + (m.ang[i]-m.ang[3]))))\n",
    "    elif i == 3:\n",
    "        return(sum(m.pg[i,j] for j in m.gBlocks) -\n",
    "               sum(m.pd[i-1,j] for j in m.dBlocks) ==\n",
    "               ((m.BP/m.X)*((m.ang[i]-m.ang[1]) + (m.ang[i]-m.ang[2]))))\n",
    "m.BusCon = Constraint(m.B, rule=bus_rule)"
   ]
  },
  {
   "cell_type": "code",
   "execution_count": 6,
   "metadata": {
    "collapsed": false,
    "deletable": true,
    "editable": true
   },
   "outputs": [],
   "source": [
    "# objective\n",
    "def s_welfare_rule(model):     \n",
    "    return (sum(m.priceDm[i,j]*m.pd[i,j] for i in m.L for j in m.dBlocks) -\n",
    "            sum(m.priceGm[i,j]*m.pg[i,j] for i in m.G for j in m.gBlocks))      \n",
    "m.s_welfare = Objective(rule=s_welfare_rule, sense=maximize) "
   ]
  },
  {
   "cell_type": "code",
   "execution_count": 7,
   "metadata": {
    "collapsed": false,
    "deletable": true,
    "editable": true
   },
   "outputs": [],
   "source": [
    "solver = SolverFactory(\"gurobi\")\n",
    "m.dual = Suffix(direction=Suffix.IMPORT)\n",
    "results = solver.solve(m)\n",
    "m.solutions.load_from(results)"
   ]
  },
  {
   "cell_type": "code",
   "execution_count": 8,
   "metadata": {
    "collapsed": false,
    "deletable": true,
    "editable": true
   },
   "outputs": [
    {
     "name": "stdout",
     "output_type": "stream",
     "text": [
      "Model unknown\n",
      "\n",
      "  Variables:\n",
      "    pd : cleared power block bid by demand\n",
      "        Size=8, Index=pd_index\n",
      "        Key    : Lower : Value : Upper : Fixed : Stale : Domain\n",
      "        (1, 1) :     0 :   8.0 :     8 : False : False :  Reals\n",
      "        (1, 2) :     0 :   5.0 :     5 : False : False :  Reals\n",
      "        (1, 3) :     0 :   5.0 :     5 : False : False :  Reals\n",
      "        (1, 4) :     0 :   0.0 :     3 : False : False :  Reals\n",
      "        (2, 1) :     0 :   7.0 :     7 : False : False :  Reals\n",
      "        (2, 2) :     0 :   4.0 :     4 : False : False :  Reals\n",
      "        (2, 3) :     0 :   3.0 :     4 : False : False :  Reals\n",
      "        (2, 4) :     0 :   0.0 :     3 : False : False :  Reals\n",
      "    pg : cleared power block offered by gen\n",
      "        Size=9, Index=pg_index\n",
      "        Key    : Lower : Value : Upper : Fixed : Stale : Domain\n",
      "        (1, 1) :     0 :   5.0 :     5 : False : False :  Reals\n",
      "        (1, 2) :     0 :   2.0 :    12 : False : False :  Reals\n",
      "        (1, 3) :     0 :   0.0 :    13 : False : False :  Reals\n",
      "        (2, 1) :     0 :   8.0 :     8 : False : False :  Reals\n",
      "        (2, 2) :     0 :   8.0 :     8 : False : False :  Reals\n",
      "        (2, 3) :     0 :   9.0 :     9 : False : False :  Reals\n",
      "        (3, 1) :     0 :   0.0 :    10 : False : False :  Reals\n",
      "        (3, 2) :     0 :   0.0 :    10 : False : False :  Reals\n",
      "        (3, 3) :     0 :   0.0 :     5 : False : False :  Reals\n",
      "    u : on/off status of gen\n",
      "        Size=3, Index=G\n",
      "        Key : Lower : Value : Upper : Fixed : Stale : Domain\n",
      "          1 :     0 :   1.0 :     1 : False : False : Binary\n",
      "          2 :     0 :   1.0 :     1 : False : False : Binary\n",
      "          3 :     0 :   0.0 :     1 : False : False : Binary\n",
      "    ang : angles of buses\n",
      "        Size=3, Index=B\n",
      "        Key : Lower : Value  : Upper : Fixed : Stale : Domain\n",
      "          1 :  None :    0.0 :  None : False : False :  Reals\n",
      "          2 :  None :    0.0 :  None : False : False :  Reals\n",
      "          3 :  None : -0.007 :  None : False : False :  Reals\n",
      "\n",
      "  Objectives:\n",
      "    s_welfare : Size=1, Index=None, Active=True\n",
      "        Key  : Active : Value\n",
      "        None :   True : 352.0\n",
      "\n",
      "  Constraints:\n",
      "    meet : Size=1\n",
      "        Key  : Lower : Body : Upper\n",
      "        None :   0.0 :  0.0 :   0.0\n",
      "    gens_min : Size=3\n",
      "        Key : Lower : Body  : Upper\n",
      "          1 :  None :  -2.0 :   0.0\n",
      "          2 :  None : -17.0 :   0.0\n",
      "          3 :  None :   0.0 :   0.0\n",
      "    gens_max : Size=3\n",
      "        Key : Lower : Body  : Upper\n",
      "          1 :  None : -23.0 :   0.0\n",
      "          2 :  None :   0.0 :   0.0\n",
      "          3 :  None :   0.0 :   0.0\n",
      "    slackBusCon : Size=1\n",
      "        Key  : Lower : Body : Upper\n",
      "        None :   0.0 :  0.0 :   0.0\n",
      "    FlowCon : Size=6\n",
      "        Key    : Lower : Body : Upper\n",
      "        (1, 2) :  -7.0 :  0.0 :     7\n",
      "        (1, 3) :  -7.0 :  7.0 :     7\n",
      "        (2, 1) :  -7.0 :  0.0 :     7\n",
      "        (2, 3) :  -7.0 :  7.0 :     7\n",
      "        (3, 1) :  -7.0 : -7.0 :     7\n",
      "        (3, 2) :  -7.0 : -7.0 :     7\n",
      "    BusCon : Size=3\n",
      "        Key : Lower : Body : Upper\n",
      "          1 :   0.0 :  0.0 :   0.0\n",
      "          2 :   0.0 :  0.0 :   0.0\n",
      "          3 :   0.0 :  0.0 :   0.0\n"
     ]
    }
   ],
   "source": [
    "m.display()"
   ]
  }
 ],
 "metadata": {
  "kernelspec": {
   "display_name": "Python 3",
   "language": "python",
   "name": "python3"
  },
  "language_info": {
   "codemirror_mode": {
    "name": "ipython",
    "version": 3
   },
   "file_extension": ".py",
   "mimetype": "text/x-python",
   "name": "python",
   "nbconvert_exporter": "python",
   "pygments_lexer": "ipython3",
   "version": "3.5.3"
  }
 },
 "nbformat": 4,
 "nbformat_minor": 2
}
