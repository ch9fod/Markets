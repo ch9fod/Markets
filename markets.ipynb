{
 "cells": [
  {
   "cell_type": "code",
   "execution_count": 1,
   "metadata": {
    "collapsed": true,
    "deletable": true,
    "editable": true
   },
   "outputs": [],
   "source": [
    "from pyomo.environ import *\n",
    "model = ConcreteModel()\n",
    "infinity = float('inf')"
   ]
  },
  {
   "cell_type": "code",
   "execution_count": 2,
   "metadata": {
    "collapsed": true,
    "deletable": true,
    "editable": true
   },
   "outputs": [],
   "source": [
    "# sets\n",
    "model.B = RangeSet(3, doc='Buses')\n",
    "model.G = RangeSet(3, doc='Generators')\n",
    "model.L = RangeSet(2, doc='Loads')\n",
    "model.dBlocks = RangeSet(4, doc='block bids by demand')\n",
    "model.gBlocks = RangeSet(3, doc='block offers of generators')"
   ]
  },
  {
   "cell_type": "code",
   "execution_count": 3,
   "metadata": {
    "collapsed": false,
    "deletable": true,
    "editable": true
   },
   "outputs": [],
   "source": [
    "# parameters\n",
    "# -------------------------------------------------------------------------------\n",
    "model.X = Param(initialize=0.1, doc='Reactance of Lines')\n",
    "# -------------------------------------------------------------------------------\n",
    "model.cap = Param(initialize=7, doc='Capacity of Lines')\n",
    "# -------------------------------------------------------------------------------\n",
    "pdm_tab = {\n",
    "    (1,1) : 8, (1,2) : 5, (1,3) : 5, (1,4) : 3, \n",
    "    (2,1) : 7, (2,2) : 4, (2,3) : 4, (2,4) : 3,\n",
    "}\n",
    "model.pdm = Param(model.L, model.dBlocks, initialize=pdm_tab, doc='MW size of block by demand')\n",
    "# -------------------------------------------------------------------------------\n",
    "priceDm_tab = {\n",
    "    (1,1) : 22, (1,2) : 17, (1,3) : 9, (1,4) : 6,  \n",
    "    (2,1) : 20, (2,2) : 18, (2,3) : 13, (2,4) : 5,\n",
    "}\n",
    "model.priceDm = Param(model.L, model.dBlocks, initialize=priceDm_tab, doc='price of block by demand')\n",
    "# -------------------------------------------------------------------------------\n",
    "pgm_tab = {\n",
    "    (1,1) : 5,  (1,2) : 12, (1,3) : 13,\n",
    "    (2,1) : 8,  (2,2) : 8,  (2,3) : 9, \n",
    "    (3,1) : 10, (3,2) : 10, (3,3) : 5,\n",
    "}\n",
    "model.pgm = Param(model.G, model.gBlocks, initialize=pgm_tab, doc='MW size of block by generator')\n",
    "# -------------------------------------------------------------------------------\n",
    "priceGm_tab = {\n",
    "    (1,1) : 3,   (1,2) : 5,  (1,3) : 7.5,\n",
    "    (2,1) : 6.5, (2,2) : 7,  (2,3) : 8, \n",
    "    (3,1) : 10,  (3,2) : 11, (3,3) : 12,\n",
    "}\n",
    "model.priceGm = Param(model.G, model.gBlocks, initialize=priceGm_tab, doc='price of block by generator')\n",
    "# -------------------------------------------------------------------------------\n",
    "model.gMax = Param(model.G, initialize={1:30 , 2:25 , 3:25}, doc='Gen capacity')\n",
    "# -------------------------------------------------------------------------------\n",
    "model.gMin = Param(model.G, initialize={1:5 , 2:8 , 3:10}, doc='Min gen output')"
   ]
  },
  {
   "cell_type": "code",
   "execution_count": 4,
   "metadata": {
    "collapsed": true,
    "deletable": true,
    "editable": true
   },
   "outputs": [],
   "source": [
    "# variables\n",
    "def pd_rule(model,i,j):\n",
    "    return (0, model.pdm[i,j])\n",
    "model.pd = Var(model.L, model.dBlocks, domain=Reals, bounds=pd_rule, doc='cleared power block bid by demand')\n",
    "# -------------------------------------------------------------------------------\n",
    "def pg_rule(model,i,j):\n",
    "    return (0, model.pgm[i,j])\n",
    "model.pg = Var(model.G, model.gBlocks, domain=Reals, bounds=pg_rule, doc='cleared power block offered by gen')\n",
    "# -------------------------------------------------------------------------------\n",
    "model.u = Var(model.G, domain=Binary, doc='on/off status of gen')"
   ]
  },
  {
   "cell_type": "code",
   "execution_count": 5,
   "metadata": {
    "collapsed": false,
    "deletable": true,
    "editable": true
   },
   "outputs": [],
   "source": [
    "# constraints\n",
    "def meet_rule(model):\n",
    "    return (summation(model.pd) ==\n",
    "            summation(model.pg))    \n",
    "#     return (sum(model.pd[i,j] for i in model.L for j in model.dBlocks) ==\n",
    "#             sum(model.pg[i,j] for i in model.G for j in model.gBlocks))\n",
    "model.meet = Constraint(rule=meet_rule, doc='Blocks demand = Blocks gen')\n",
    "# -------------------------------------------------------------------------------\n",
    "def gens_min_rule(model,i):\n",
    "    return (model.u[i]*model.gMin[i] <=\n",
    "            sum(model.pg[i,j] for j in model.gBlocks))\n",
    "model.gens_min = Constraint(model.G, rule=gens_min_rule, doc='Generation between limits')\n",
    "# -------------------------------------------------------------------------------\n",
    "def gens_max_rule(model,i):\n",
    "    return (model.u[i]*model.gMax[i] >=\n",
    "            sum(model.pg[i,j] for j in model.gBlocks))\n",
    "model.gens_max = Constraint(model.G, rule=gens_max_rule, doc='Generation between limits')"
   ]
  },
  {
   "cell_type": "code",
   "execution_count": 6,
   "metadata": {
    "collapsed": false,
    "deletable": true,
    "editable": true
   },
   "outputs": [],
   "source": [
    "# objective\n",
    "def s_welfare_rule(model):     \n",
    "    return (sum(model.priceDm[i,j]*model.pd[i,j] for i in model.L for j in model.dBlocks) -\n",
    "            sum(model.priceGm[i,j]*model.pg[i,j] for i in model.G for j in model.gBlocks))      \n",
    "model.s_welfare = Objective(rule=s_welfare_rule, sense=maximize) "
   ]
  },
  {
   "cell_type": "code",
   "execution_count": 7,
   "metadata": {
    "collapsed": false,
    "deletable": true,
    "editable": true
   },
   "outputs": [],
   "source": [
    "solver = SolverFactory(\"gurobi\")\n",
    "model.dual = Suffix(direction=Suffix.IMPORT)\n",
    "results = solver.solve(model)\n",
    "model.solutions.load_from(results)"
   ]
  },
  {
   "cell_type": "code",
   "execution_count": 8,
   "metadata": {
    "collapsed": false,
    "deletable": true,
    "editable": true
   },
   "outputs": [
    {
     "name": "stdout",
     "output_type": "stream",
     "text": [
      "Model unknown\n",
      "\n",
      "  Variables:\n",
      "    pd : cleared power block bid by demand\n",
      "        Size=8, Index=pd_index\n",
      "        Key    : Lower : Value : Upper : Fixed : Stale : Domain\n",
      "        (1, 1) :     0 :   8.0 :     8 : False : False :  Reals\n",
      "        (1, 2) :     0 :   5.0 :     5 : False : False :  Reals\n",
      "        (1, 3) :     0 :   5.0 :     5 : False : False :  Reals\n",
      "        (1, 4) :     0 :   0.0 :     3 : False : False :  Reals\n",
      "        (2, 1) :     0 :   7.0 :     7 : False : False :  Reals\n",
      "        (2, 2) :     0 :   4.0 :     4 : False : False :  Reals\n",
      "        (2, 3) :     0 :   4.0 :     4 : False : False :  Reals\n",
      "        (2, 4) :     0 :   0.0 :     3 : False : False :  Reals\n",
      "    pg : cleared power block offered by gen\n",
      "        Size=9, Index=pg_index\n",
      "        Key    : Lower : Value : Upper : Fixed : Stale : Domain\n",
      "        (1, 1) :     0 :   5.0 :     5 : False : False :  Reals\n",
      "        (1, 2) :     0 :  12.0 :    12 : False : False :  Reals\n",
      "        (1, 3) :     0 :   0.0 :    13 : False : False :  Reals\n",
      "        (2, 1) :     0 :   8.0 :     8 : False : False :  Reals\n",
      "        (2, 2) :     0 :   8.0 :     8 : False : False :  Reals\n",
      "        (2, 3) :     0 :   0.0 :     9 : False : False :  Reals\n",
      "        (3, 1) :     0 :   0.0 :    10 : False : False :  Reals\n",
      "        (3, 2) :     0 :   0.0 :    10 : False : False :  Reals\n",
      "        (3, 3) :     0 :   0.0 :     5 : False : False :  Reals\n",
      "    u : on/off status of gen\n",
      "        Size=3, Index=G\n",
      "        Key : Lower : Value : Upper : Fixed : Stale : Domain\n",
      "          1 :     0 :   1.0 :     1 : False : False : Binary\n",
      "          2 :     0 :   1.0 :     1 : False : False : Binary\n",
      "          3 :     0 :  -0.0 :     1 : False : False : Binary\n",
      "\n",
      "  Objectives:\n",
      "    s_welfare : Size=1, Index=None, Active=True\n",
      "        Key  : Active : Value\n",
      "        None :   True : 387.0\n",
      "\n",
      "  Constraints:\n",
      "    meet : Size=1\n",
      "        Key  : Lower : Body : Upper\n",
      "        None :   0.0 :  0.0 :   0.0\n",
      "    gens_min : Size=3\n",
      "        Key : Lower : Body  : Upper\n",
      "          1 :  None : -12.0 :   0.0\n",
      "          2 :  None :  -8.0 :   0.0\n",
      "          3 :  None :   0.0 :   0.0\n",
      "    gens_max : Size=3\n",
      "        Key : Lower : Body  : Upper\n",
      "          1 :  None : -13.0 :   0.0\n",
      "          2 :  None :  -9.0 :   0.0\n",
      "          3 :  None :   0.0 :   0.0\n"
     ]
    }
   ],
   "source": [
    "model.display()"
   ]
  }
 ],
 "metadata": {
  "kernelspec": {
   "display_name": "Python 3",
   "language": "python",
   "name": "python3"
  },
  "language_info": {
   "codemirror_mode": {
    "name": "ipython",
    "version": 3
   },
   "file_extension": ".py",
   "mimetype": "text/x-python",
   "name": "python",
   "nbconvert_exporter": "python",
   "pygments_lexer": "ipython3",
   "version": "3.5.3"
  }
 },
 "nbformat": 4,
 "nbformat_minor": 2
}
