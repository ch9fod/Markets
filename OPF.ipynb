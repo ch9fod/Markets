{
 "cells": [
  {
   "cell_type": "code",
   "execution_count": 1,
   "metadata": {
    "collapsed": false,
    "deletable": true,
    "editable": true
   },
   "outputs": [],
   "source": [
    "from pyomo.environ import *\n",
    "import os\n",
    "model = ConcreteModel()\n",
    "solverexe = \"gurobi\"\n",
    "infinity = float('inf')\n",
    "# dirsolver = r\"C:\\Users\\ch9fod\\Documents\\GitHub\\ED\\solvers\"\n",
    "# datafile = \"data1.dat\""
   ]
  },
  {
   "cell_type": "code",
   "execution_count": 2,
   "metadata": {
    "collapsed": false,
    "deletable": true,
    "editable": true
   },
   "outputs": [],
   "source": [
    "model.Bus = RangeSet(4, doc='Buses')\n",
    "model.G = RangeSet(3, doc='Generators')\n",
    "#parameters\n",
    "model.a = Param(model.G, initialize={1:20.0 , 2:25.0 , 3:40.0},\n",
    "                doc='Parameter a')\n",
    "model.b = Param(model.G, initialize={1:0.05 , 2:0.10 , 3:0.20},\n",
    "                doc='Parameter b')\n",
    "model.Pmin = Param(model.G, initialize={1:20.0 , 2:20.0 , 3:30.0},\n",
    "                   doc='Parameter Pmin')\n",
    "model.Pmax = Param(model.G, initialize={1:400.0 , 2:300.0 , 3:250.0},\n",
    "                   doc='Parameter Pmax')\n",
    "model.Loads = Param(model.Bus, initialize={1:0.0 , 2:0.0 , 3:200.0 , 4:400.0},\n",
    "                    doc='Loads for each Bus')\n",
    "#lone parameter, constant\n",
    "model.D = Param(initialize=600.0, doc='Load')\n",
    "model.BaseP = Param(initialize=100.0, doc='Base Power')\n",
    "model.PFmax = Param(initialize=300.0, doc='Max Power Flow')\n",
    "model.PFmin = Param(initialize=-300.0, doc='Min Power Flow')\n",
    "dtab = {\n",
    "    (1,2) : 0.007,\n",
    "    (2,3) : 0.01,\n",
    "    (3,4) : 0.006,\n",
    "    (4,1) : 0.05,\n",
    "    (2,1) : 0.007,\n",
    "    (3,2) : 0.01,\n",
    "    (4,3) : 0.006,\n",
    "    (1,4) : 0.05,\n",
    "}\n",
    "model.X = Param(model.Bus, model.Bus, initialize=dtab,\n",
    "                doc='Reactance between buses', default=infinity)"
   ]
  },
  {
   "cell_type": "code",
   "execution_count": 3,
   "metadata": {
    "collapsed": true,
    "deletable": true,
    "editable": true
   },
   "outputs": [],
   "source": [
    "# variables\n",
    "model.P = Var(model.G, doc='Generation per Generator')\n",
    "model.Angles = Var(model.Bus, doc='Angles of Buses')"
   ]
  },
  {
   "cell_type": "code",
   "execution_count": 4,
   "metadata": {
    "collapsed": true,
    "deletable": true,
    "editable": true
   },
   "outputs": [],
   "source": [
    "#constraints\n",
    "def generation_r(model,i):\n",
    "    return (model.Pmin[i] , model.P[i] , model.Pmax[i])\n",
    "model.GenCon = Constraint(model.G, rule = generation_r)\n",
    "def demand_r(model):\n",
    "    return model.D == sum(model.P[i] for i in model.G)\n",
    "model.DemandCon = Constraint(model.G, rule = demand_r)\n",
    "def slack_r(model):\n",
    "    return model.Angles[1] == 0\n",
    "model.SlackBusCon = Constraint(rule=slack_r)\n",
    "def bus_r(model,i):\n",
    "    if i == 4:\n",
    "        return(-model.Loads[i] ==\n",
    "               ((model.BaseP/model.X[i,i-1])*\n",
    "                (model.Angles[i]-model.Angles[i-1]) +\n",
    "                (model.BaseP/model.X[i,i-3])*\n",
    "                (model.Angles[i]-model.Angles[i-3])))\n",
    "    elif i == 1:\n",
    "        return((model.P[i] - model.Loads[i]) ==\n",
    "               ((model.BaseP/model.X[i,i+1])*\n",
    "                (model.Angles[i]-model.Angles[i+1]) +\n",
    "                (model.BaseP/model.X[i,i+3])*\n",
    "                (model.Angles[i]-model.Angles[i+3])))\n",
    "    else:\n",
    "        return((model.P[i] - model.Loads[i]) ==\n",
    "               ((model.BaseP/model.X[i,i+1])*\n",
    "                (model.Angles[i]-model.Angles[i+1]) +\n",
    "                (model.BaseP/model.X[i,i-1])*\n",
    "                (model.Angles[i]-model.Angles[i-1])))\n",
    "model.BusCon = Constraint(model.Bus, rule=bus_r)\n",
    "def flow_r(model,i,j):\n",
    "    if i == j:\n",
    "        return Constraint.Skip\n",
    "    return (model.PFmin ,\n",
    "            (model.BaseP/model.X[i,j])*(model.Angles[i]--model.Angles[j]),\n",
    "            model.PFmax)\n",
    "model.FlowCon = Constraint(model.Bus, model.Bus, rule=flow_r)"
   ]
  },
  {
   "cell_type": "code",
   "execution_count": 5,
   "metadata": {
    "collapsed": true,
    "deletable": true,
    "editable": true
   },
   "outputs": [],
   "source": [
    "#objective\n",
    "def cost_rule(model):\n",
    "    return sum(model.a[i]*model.P[i] +\n",
    "               0.5*model.b[i]*model.P[i]**2\n",
    "               for i in model.G)\n",
    "#default is to minimize\n",
    "model.OBJ = Objective(rule=cost_rule)"
   ]
  },
  {
   "cell_type": "code",
   "execution_count": 6,
   "metadata": {
    "collapsed": false,
    "deletable": true,
    "editable": true
   },
   "outputs": [
    {
     "name": "stdout",
     "output_type": "stream",
     "text": [
      "WARNING: DEPRECATION WARNING: Cannot call Model.create_instance() on a\n",
      "\tconstructed model; returning a clone of the current model instance.\n",
      "WARNING - Loading a SolverResults object with a warning status into model=unknown; message from solver=Problem proven to be infeasible or unbounded.\n"
     ]
    }
   ],
   "source": [
    "if solverexe == \"gurobi\":\n",
    "    solver = SolverFactory(solverexe)\n",
    "else:\n",
    "    solver = SolverFactory(solverexe,\n",
    "                           executable=os.path.join(dirsolver, solverexe))\n",
    "instance = model.create_instance()\n",
    "instance.dual = Suffix(direction=Suffix.IMPORT)\n",
    "results = solver.solve(instance)"
   ]
  },
  {
   "cell_type": "code",
   "execution_count": 7,
   "metadata": {
    "collapsed": false,
    "deletable": true,
    "editable": true
   },
   "outputs": [
    {
     "name": "stdout",
     "output_type": "stream",
     "text": [
      "Model unknown\n",
      "\n",
      "  Variables:\n",
      "    P : Generation per Generator\n",
      "        Size=3, Index=G\n",
      "        Key : Lower : Value : Upper : Fixed : Stale : Domain\n",
      "          1 :  None :  None :  None : False :  True :  Reals\n",
      "          2 :  None :  None :  None : False :  True :  Reals\n",
      "          3 :  None :  None :  None : False :  True :  Reals\n",
      "    Angles : Angles of Buses\n",
      "        Size=4, Index=Bus\n",
      "        Key : Lower : Value : Upper : Fixed : Stale : Domain\n",
      "          1 :  None :  None :  None : False :  True :  Reals\n",
      "          2 :  None :  None :  None : False :  True :  Reals\n",
      "          3 :  None :  None :  None : False :  True :  Reals\n",
      "          4 :  None :  None :  None : False :  True :  Reals\n",
      "\n",
      "  Objectives:\n",
      "    OBJ : Size=1, Index=None, Active=True\n",
      "ERROR: evaluating expression: No value for uninitialized NumericValue object P[1]\n",
      "\t    (expression: 20.0*P[1] + 0.025*P[1]**2.0 + 25.0*P[2] + 0.05*P[2]**2.0 + 40.0*P[3] + 0.1*P[3]**2.0)\n",
      "ERROR: evaluating object as numeric value: OBJ\n",
      "\t    (object: <class 'pyomo.core.base.objective.SimpleObjective'>)\n",
      "\tNo value for uninitialized NumericValue object P[1]\n",
      "        Key : Active : Value\n",
      "        None :   None :  None\n",
      "\n",
      "  Constraints:\n",
      "    GenCon : Size=3\n",
      "        Key : Lower : Body : Upper\n",
      "          1 :  20.0 : None : 400.0\n",
      "          2 :  20.0 : None : 300.0\n",
      "          3 :  30.0 : None : 250.0\n",
      "    DemandCon : Size=3\n",
      "ERROR: evaluating expression: No value for uninitialized NumericValue object P[1]\n",
      "\t    (expression: P[1] + P[2] + P[3])\n",
      "ERROR: evaluating expression: No value for uninitialized NumericValue object P[1]\n",
      "\t    (expression: P[1] + P[2] + P[3])\n",
      "ERROR: evaluating expression: No value for uninitialized NumericValue object P[1]\n",
      "\t    (expression: P[1] + P[2] + P[3])\n",
      "        Key : Lower : Body : Upper\n",
      "          1 :  None : None :  None\n",
      "          2 :  None : None :  None\n",
      "          3 :  None : None :  None\n",
      "    SlackBusCon : Size=1\n",
      "        Key  : Lower : Body : Upper\n",
      "        None :   0.0 : None :   0.0\n",
      "    BusCon : Size=4\n",
      "ERROR: evaluating expression: No value for uninitialized NumericValue object P[1]\n",
      "\t    (expression: P[1] - 14285.714285714286*( Angles[1] - Angles[2] ) - 2000.0*( Angles[1] - Angles[4] ))\n",
      "ERROR: evaluating expression: No value for uninitialized NumericValue object P[2]\n",
      "\t    (expression: P[2] - 10000.0*( Angles[2] - Angles[3] ) - 14285.714285714286*( Angles[2] - Angles[1] ))\n",
      "ERROR: evaluating expression: No value for uninitialized NumericValue object P[3]\n",
      "\t    (expression: -200.0 + P[3] - 16666.666666666668*( Angles[3] - Angles[4] ) - 10000.0*( Angles[3] - Angles[2] ))\n",
      "ERROR: evaluating expression: No value for uninitialized NumericValue object Angles[4]\n",
      "\t    (expression: Angles[4] - Angles[3])\n",
      "ERROR: evaluating object as numeric value: Angles[4] - Angles[3]\n",
      "\t    (object: <class 'pyomo.core.base.expr_coopr3._SumExpression'>)\n",
      "\tNo value for uninitialized NumericValue object Angles[4]\n",
      "ERROR: evaluating expression: No value for uninitialized NumericValue object Angles[4]\n",
      "\t    (expression: 16666.666666666668*( Angles[4] - Angles[3] ) + 2000.0*( Angles[4] - Angles[1] ))\n",
      "        Key : Lower : Body : Upper\n",
      "          1 :  None : None :  None\n",
      "          2 :  None : None :  None\n",
      "          3 :  None : None :  None\n",
      "          4 :  None : None :  None\n",
      "    FlowCon : Size=12\n",
      "ERROR: evaluating expression: No value for uninitialized NumericValue object Angles[1]\n",
      "\t    (expression: Angles[1] + Angles[2])\n",
      "ERROR: evaluating object as numeric value: Angles[1] + Angles[2]\n",
      "\t    (object: <class 'pyomo.core.base.expr_coopr3._SumExpression'>)\n",
      "\tNo value for uninitialized NumericValue object Angles[1]\n",
      "ERROR: evaluating expression: No value for uninitialized NumericValue object Angles[1]\n",
      "\t    (expression: 14285.714285714286 * ( Angles[1] + Angles[2] ))\n",
      "ERROR: evaluating expression: No value for uninitialized NumericValue object Angles[3]\n",
      "\t    (expression: Angles[3] + Angles[2])\n",
      "ERROR: evaluating object as numeric value: Angles[3] + Angles[2]\n",
      "\t    (object: <class 'pyomo.core.base.expr_coopr3._SumExpression'>)\n",
      "\tNo value for uninitialized NumericValue object Angles[3]\n",
      "ERROR: evaluating expression: No value for uninitialized NumericValue object Angles[3]\n",
      "\t    (expression: 10000.0 * ( Angles[3] + Angles[2] ))\n",
      "ERROR: evaluating expression: No value for uninitialized NumericValue object Angles[3]\n",
      "\t    (expression: Angles[3] + Angles[4])\n",
      "ERROR: evaluating object as numeric value: Angles[3] + Angles[4]\n",
      "\t    (object: <class 'pyomo.core.base.expr_coopr3._SumExpression'>)\n",
      "\tNo value for uninitialized NumericValue object Angles[3]\n",
      "ERROR: evaluating expression: No value for uninitialized NumericValue object Angles[3]\n",
      "\t    (expression: 16666.666666666668 * ( Angles[3] + Angles[4] ))\n",
      "ERROR: evaluating expression: No value for uninitialized NumericValue object Angles[2]\n",
      "\t    (expression: Angles[2] + Angles[1])\n",
      "ERROR: evaluating object as numeric value: Angles[2] + Angles[1]\n",
      "\t    (object: <class 'pyomo.core.base.expr_coopr3._SumExpression'>)\n",
      "\tNo value for uninitialized NumericValue object Angles[2]\n",
      "ERROR: evaluating expression: No value for uninitialized NumericValue object Angles[2]\n",
      "\t    (expression: 14285.714285714286 * ( Angles[2] + Angles[1] ))\n",
      "ERROR: evaluating expression: No value for uninitialized NumericValue object Angles[2]\n",
      "\t    (expression: Angles[2] + Angles[3])\n",
      "ERROR: evaluating object as numeric value: Angles[2] + Angles[3]\n",
      "\t    (object: <class 'pyomo.core.base.expr_coopr3._SumExpression'>)\n",
      "\tNo value for uninitialized NumericValue object Angles[2]\n",
      "ERROR: evaluating expression: No value for uninitialized NumericValue object Angles[2]\n",
      "\t    (expression: 10000.0 * ( Angles[2] + Angles[3] ))\n",
      "ERROR: evaluating expression: No value for uninitialized NumericValue object Angles[1]\n",
      "\t    (expression: Angles[1] + Angles[4])\n",
      "ERROR: evaluating object as numeric value: Angles[1] + Angles[4]\n",
      "\t    (object: <class 'pyomo.core.base.expr_coopr3._SumExpression'>)\n",
      "\tNo value for uninitialized NumericValue object Angles[1]\n",
      "ERROR: evaluating expression: No value for uninitialized NumericValue object Angles[1]\n",
      "\t    (expression: 2000.0 * ( Angles[1] + Angles[4] ))\n",
      "ERROR: evaluating expression: No value for uninitialized NumericValue object Angles[4]\n",
      "\t    (expression: Angles[4] + Angles[3])\n",
      "ERROR: evaluating object as numeric value: Angles[4] + Angles[3]\n",
      "\t    (object: <class 'pyomo.core.base.expr_coopr3._SumExpression'>)\n",
      "\tNo value for uninitialized NumericValue object Angles[4]\n",
      "ERROR: evaluating expression: No value for uninitialized NumericValue object Angles[4]\n",
      "\t    (expression: 16666.666666666668 * ( Angles[4] + Angles[3] ))\n",
      "ERROR: evaluating expression: No value for uninitialized NumericValue object Angles[4]\n",
      "\t    (expression: Angles[4] + Angles[1])\n",
      "ERROR: evaluating object as numeric value: Angles[4] + Angles[1]\n",
      "\t    (object: <class 'pyomo.core.base.expr_coopr3._SumExpression'>)\n",
      "\tNo value for uninitialized NumericValue object Angles[4]\n",
      "ERROR: evaluating expression: No value for uninitialized NumericValue object Angles[4]\n",
      "\t    (expression: 2000.0 * ( Angles[4] + Angles[1] ))\n",
      "        Key    : Lower  : Body : Upper\n"
     ]
    },
    {
     "ename": "TypeError",
     "evalue": "not all arguments converted during string formatting",
     "output_type": "error",
     "traceback": [
      "\u001b[1;31m---------------------------------------------------------------------------\u001b[0m",
      "\u001b[1;31mTypeError\u001b[0m                                 Traceback (most recent call last)",
      "\u001b[1;32m<ipython-input-7-a003aa5cf9c5>\u001b[0m in \u001b[0;36m<module>\u001b[1;34m()\u001b[0m\n\u001b[1;32m----> 1\u001b[1;33m \u001b[0minstance\u001b[0m\u001b[1;33m.\u001b[0m\u001b[0mdisplay\u001b[0m\u001b[1;33m(\u001b[0m\u001b[1;33m)\u001b[0m\u001b[1;33m\u001b[0m\u001b[0m\n\u001b[0m",
      "\u001b[1;32mC:\\Users\\ch9fod\\Miniconda3\\envs\\markets\\lib\\site-packages\\pyomo\\core\\base\\block.py\u001b[0m in \u001b[0;36mdisplay\u001b[1;34m(self, filename, ostream, prefix)\u001b[0m\n\u001b[0;32m   1703\u001b[0m         \u001b[0mDisplay\u001b[0m \u001b[0mvalues\u001b[0m \u001b[1;32min\u001b[0m \u001b[0mthe\u001b[0m \u001b[0mblock\u001b[0m\u001b[1;33m\u001b[0m\u001b[0m\n\u001b[0;32m   1704\u001b[0m         \"\"\"\n\u001b[1;32m-> 1705\u001b[1;33m         \u001b[0mBlock\u001b[0m\u001b[1;33m.\u001b[0m\u001b[0mdisplay\u001b[0m\u001b[1;33m(\u001b[0m\u001b[0mself\u001b[0m\u001b[1;33m,\u001b[0m \u001b[0mfilename\u001b[0m\u001b[1;33m,\u001b[0m \u001b[0mostream\u001b[0m\u001b[1;33m,\u001b[0m \u001b[0mprefix\u001b[0m\u001b[1;33m)\u001b[0m\u001b[1;33m\u001b[0m\u001b[0m\n\u001b[0m\u001b[0;32m   1706\u001b[0m \u001b[1;33m\u001b[0m\u001b[0m\n\u001b[0;32m   1707\u001b[0m \u001b[1;33m\u001b[0m\u001b[0m\n",
      "\u001b[1;32mC:\\Users\\ch9fod\\Miniconda3\\envs\\markets\\lib\\site-packages\\pyomo\\core\\base\\block.py\u001b[0m in \u001b[0;36mdisplay\u001b[1;34m(self, filename, ostream, prefix)\u001b[0m\n\u001b[0;32m   1683\u001b[0m \u001b[1;33m\u001b[0m\u001b[0m\n\u001b[0;32m   1684\u001b[0m         \u001b[1;32mfor\u001b[0m \u001b[0mkey\u001b[0m \u001b[1;32min\u001b[0m \u001b[0msorted\u001b[0m\u001b[1;33m(\u001b[0m\u001b[0mself\u001b[0m\u001b[1;33m)\u001b[0m\u001b[1;33m:\u001b[0m\u001b[1;33m\u001b[0m\u001b[0m\n\u001b[1;32m-> 1685\u001b[1;33m             \u001b[0m_BlockData\u001b[0m\u001b[1;33m.\u001b[0m\u001b[0mdisplay\u001b[0m\u001b[1;33m(\u001b[0m \u001b[0mself\u001b[0m\u001b[1;33m[\u001b[0m\u001b[0mkey\u001b[0m\u001b[1;33m]\u001b[0m\u001b[1;33m,\u001b[0m \u001b[0mfilename\u001b[0m\u001b[1;33m,\u001b[0m \u001b[0mostream\u001b[0m\u001b[1;33m,\u001b[0m \u001b[0mprefix\u001b[0m \u001b[1;33m)\u001b[0m\u001b[1;33m\u001b[0m\u001b[0m\n\u001b[0m\u001b[0;32m   1686\u001b[0m \u001b[1;33m\u001b[0m\u001b[0m\n\u001b[0;32m   1687\u001b[0m \u001b[1;33m\u001b[0m\u001b[0m\n",
      "\u001b[1;32mC:\\Users\\ch9fod\\Miniconda3\\envs\\markets\\lib\\site-packages\\pyomo\\core\\base\\block.py\u001b[0m in \u001b[0;36mdisplay\u001b[1;34m(self, filename, ostream, prefix)\u001b[0m\n\u001b[0;32m   1500\u001b[0m             \u001b[1;32melse\u001b[0m\u001b[1;33m:\u001b[0m\u001b[1;33m\u001b[0m\u001b[0m\n\u001b[0;32m   1501\u001b[0m                 \u001b[1;32mfor\u001b[0m \u001b[0mobj\u001b[0m \u001b[1;32min\u001b[0m \u001b[0mitervalues\u001b[0m\u001b[1;33m(\u001b[0m\u001b[0mACTIVE\u001b[0m\u001b[1;33m)\u001b[0m\u001b[1;33m:\u001b[0m\u001b[1;33m\u001b[0m\u001b[0m\n\u001b[1;32m-> 1502\u001b[1;33m                     \u001b[0mobj\u001b[0m\u001b[1;33m.\u001b[0m\u001b[0mdisplay\u001b[0m\u001b[1;33m(\u001b[0m\u001b[0mprefix\u001b[0m\u001b[1;33m=\u001b[0m\u001b[0mprefix\u001b[0m\u001b[1;33m+\u001b[0m\u001b[1;34m\"    \"\u001b[0m\u001b[1;33m,\u001b[0m\u001b[0mostream\u001b[0m\u001b[1;33m=\u001b[0m\u001b[0mostream\u001b[0m\u001b[1;33m)\u001b[0m\u001b[1;33m\u001b[0m\u001b[0m\n\u001b[0m\u001b[0;32m   1503\u001b[0m \u001b[1;33m\u001b[0m\u001b[0m\n\u001b[0;32m   1504\u001b[0m         \u001b[0mitem\u001b[0m \u001b[1;33m=\u001b[0m \u001b[0mBlock\u001b[0m\u001b[1;33m\u001b[0m\u001b[0m\n",
      "\u001b[1;32mC:\\Users\\ch9fod\\Miniconda3\\envs\\markets\\lib\\site-packages\\pyomo\\core\\base\\constraint.py\u001b[0m in \u001b[0;36mdisplay\u001b[1;34m(self, prefix, ostream)\u001b[0m\n\u001b[0;32m    806\u001b[0m                         \u001b[1;33m(\u001b[0m\u001b[1;33m(\u001b[0m\u001b[0mk\u001b[0m\u001b[1;33m,\u001b[0m\u001b[0mv\u001b[0m\u001b[1;33m)\u001b[0m \u001b[1;32mfor\u001b[0m \u001b[0mk\u001b[0m\u001b[1;33m,\u001b[0m\u001b[0mv\u001b[0m \u001b[1;32min\u001b[0m \u001b[0miteritems\u001b[0m\u001b[1;33m(\u001b[0m\u001b[0mself\u001b[0m\u001b[1;33m.\u001b[0m\u001b[0m_data\u001b[0m\u001b[1;33m)\u001b[0m \u001b[1;32mif\u001b[0m \u001b[0mv\u001b[0m\u001b[1;33m.\u001b[0m\u001b[0mactive\u001b[0m\u001b[1;33m)\u001b[0m\u001b[1;33m,\u001b[0m\u001b[1;33m\u001b[0m\u001b[0m\n\u001b[0;32m    807\u001b[0m                         \u001b[1;33m(\u001b[0m \u001b[1;34m\"Lower\"\u001b[0m\u001b[1;33m,\u001b[0m\u001b[1;34m\"Body\"\u001b[0m\u001b[1;33m,\u001b[0m\u001b[1;34m\"Upper\"\u001b[0m \u001b[1;33m)\u001b[0m\u001b[1;33m,\u001b[0m\u001b[1;33m\u001b[0m\u001b[0m\n\u001b[1;32m--> 808\u001b[1;33m                         lambda k, v: [ value(v.lower),\n\u001b[0m\u001b[0;32m    809\u001b[0m                                        \u001b[0mv\u001b[0m\u001b[1;33m.\u001b[0m\u001b[0mbody\u001b[0m\u001b[1;33m(\u001b[0m\u001b[1;33m)\u001b[0m\u001b[1;33m,\u001b[0m\u001b[1;33m\u001b[0m\u001b[0m\n\u001b[0;32m    810\u001b[0m                                        \u001b[0mvalue\u001b[0m\u001b[1;33m(\u001b[0m\u001b[0mv\u001b[0m\u001b[1;33m.\u001b[0m\u001b[0mupper\u001b[0m\u001b[1;33m)\u001b[0m\u001b[1;33m,\u001b[0m\u001b[1;33m\u001b[0m\u001b[0m\n",
      "\u001b[1;32mC:\\Users\\ch9fod\\Miniconda3\\envs\\markets\\lib\\site-packages\\pyomo\\core\\base\\misc.py\u001b[0m in \u001b[0;36mtabular_writer\u001b[1;34m(ostream, prefix, data, header, row_generator)\u001b[0m\n\u001b[0;32m    179\u001b[0m                 \u001b[0mprefix\u001b[0m\u001b[1;33m\u001b[0m\u001b[0m\n\u001b[0;32m    180\u001b[0m                 \u001b[1;33m+\u001b[0m \u001b[1;34m\" : \"\u001b[0m\u001b[1;33m.\u001b[0m\u001b[0mjoin\u001b[0m\u001b[1;33m(\u001b[0m \u001b[0m_width\u001b[0m\u001b[1;33m[\u001b[0m\u001b[0mi\u001b[0m\u001b[1;33m]\u001b[0m \u001b[1;33m%\u001b[0m \u001b[0mx\u001b[0m \u001b[1;32mfor\u001b[0m \u001b[0mi\u001b[0m\u001b[1;33m,\u001b[0m\u001b[0mx\u001b[0m \u001b[1;32min\u001b[0m \u001b[0menumerate\u001b[0m\u001b[1;33m(\u001b[0m\u001b[0m_data\u001b[0m\u001b[1;33m)\u001b[0m \u001b[1;33m)\u001b[0m\u001b[1;33m\u001b[0m\u001b[0m\n\u001b[1;32m--> 181\u001b[1;33m                 + \"\\n\")\n\u001b[0m\u001b[0;32m    182\u001b[0m \u001b[1;33m\u001b[0m\u001b[0m\n",
      "\u001b[1;32mC:\\Users\\ch9fod\\Miniconda3\\envs\\markets\\lib\\site-packages\\pyomo\\core\\base\\misc.py\u001b[0m in \u001b[0;36m<genexpr>\u001b[1;34m(.0)\u001b[0m\n\u001b[0;32m    178\u001b[0m             ostream.write(\n\u001b[0;32m    179\u001b[0m                 \u001b[0mprefix\u001b[0m\u001b[1;33m\u001b[0m\u001b[0m\n\u001b[1;32m--> 180\u001b[1;33m                 \u001b[1;33m+\u001b[0m \u001b[1;34m\" : \"\u001b[0m\u001b[1;33m.\u001b[0m\u001b[0mjoin\u001b[0m\u001b[1;33m(\u001b[0m \u001b[0m_width\u001b[0m\u001b[1;33m[\u001b[0m\u001b[0mi\u001b[0m\u001b[1;33m]\u001b[0m \u001b[1;33m%\u001b[0m \u001b[0mx\u001b[0m \u001b[1;32mfor\u001b[0m \u001b[0mi\u001b[0m\u001b[1;33m,\u001b[0m\u001b[0mx\u001b[0m \u001b[1;32min\u001b[0m \u001b[0menumerate\u001b[0m\u001b[1;33m(\u001b[0m\u001b[0m_data\u001b[0m\u001b[1;33m)\u001b[0m \u001b[1;33m)\u001b[0m\u001b[1;33m\u001b[0m\u001b[0m\n\u001b[0m\u001b[0;32m    181\u001b[0m                 + \"\\n\")\n\u001b[0;32m    182\u001b[0m \u001b[1;33m\u001b[0m\u001b[0m\n",
      "\u001b[1;31mTypeError\u001b[0m: not all arguments converted during string formatting"
     ]
    }
   ],
   "source": [
    "instance.display()"
   ]
  },
  {
   "cell_type": "code",
   "execution_count": null,
   "metadata": {
    "collapsed": true,
    "deletable": true,
    "editable": true
   },
   "outputs": [],
   "source": []
  }
 ],
 "metadata": {
  "kernelspec": {
   "display_name": "Python 3",
   "language": "python",
   "name": "python3"
  },
  "language_info": {
   "codemirror_mode": {
    "name": "ipython",
    "version": 3
   },
   "file_extension": ".py",
   "mimetype": "text/x-python",
   "name": "python",
   "nbconvert_exporter": "python",
   "pygments_lexer": "ipython3",
   "version": "3.5.3"
  }
 },
 "nbformat": 4,
 "nbformat_minor": 2
}
